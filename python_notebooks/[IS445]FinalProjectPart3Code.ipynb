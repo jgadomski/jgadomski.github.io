{
 "cells": [
  {
   "cell_type": "code",
   "execution_count": 1,
   "id": "0ea5e904",
   "metadata": {},
   "outputs": [],
   "source": [
    "import matplotlib.pyplot as plt\n",
    "import pandas as pd"
   ]
  },
  {
   "cell_type": "code",
   "execution_count": 3,
   "id": "b0f29b92",
   "metadata": {},
   "outputs": [
    {
     "data": {
      "text/html": [
       "<div>\n",
       "<style scoped>\n",
       "    .dataframe tbody tr th:only-of-type {\n",
       "        vertical-align: middle;\n",
       "    }\n",
       "\n",
       "    .dataframe tbody tr th {\n",
       "        vertical-align: top;\n",
       "    }\n",
       "\n",
       "    .dataframe thead th {\n",
       "        text-align: right;\n",
       "    }\n",
       "</style>\n",
       "<table border=\"1\" class=\"dataframe\">\n",
       "  <thead>\n",
       "    <tr style=\"text-align: right;\">\n",
       "      <th></th>\n",
       "      <th>PlayerWeight</th>\n",
       "      <th>PlayerCollegeName</th>\n",
       "      <th>Position</th>\n",
       "      <th>GameWeather</th>\n",
       "      <th>Temperature</th>\n",
       "      <th>Humidity</th>\n",
       "    </tr>\n",
       "  </thead>\n",
       "  <tbody>\n",
       "    <tr>\n",
       "      <th>0</th>\n",
       "      <td>212</td>\n",
       "      <td>Tennessee</td>\n",
       "      <td>SS</td>\n",
       "      <td>Clear and warm</td>\n",
       "      <td>63.0</td>\n",
       "      <td>77.0</td>\n",
       "    </tr>\n",
       "    <tr>\n",
       "      <th>1</th>\n",
       "      <td>288</td>\n",
       "      <td>Miami</td>\n",
       "      <td>DE</td>\n",
       "      <td>Clear and warm</td>\n",
       "      <td>63.0</td>\n",
       "      <td>77.0</td>\n",
       "    </tr>\n",
       "    <tr>\n",
       "      <th>2</th>\n",
       "      <td>270</td>\n",
       "      <td>Georgia</td>\n",
       "      <td>DE</td>\n",
       "      <td>Clear and warm</td>\n",
       "      <td>63.0</td>\n",
       "      <td>77.0</td>\n",
       "    </tr>\n",
       "    <tr>\n",
       "      <th>3</th>\n",
       "      <td>245</td>\n",
       "      <td>Texas</td>\n",
       "      <td>ILB</td>\n",
       "      <td>Clear and warm</td>\n",
       "      <td>63.0</td>\n",
       "      <td>77.0</td>\n",
       "    </tr>\n",
       "    <tr>\n",
       "      <th>4</th>\n",
       "      <td>206</td>\n",
       "      <td>Newberry</td>\n",
       "      <td>FS</td>\n",
       "      <td>Clear and warm</td>\n",
       "      <td>63.0</td>\n",
       "      <td>77.0</td>\n",
       "    </tr>\n",
       "  </tbody>\n",
       "</table>\n",
       "</div>"
      ],
      "text/plain": [
       "   PlayerWeight PlayerCollegeName Position     GameWeather  Temperature  \\\n",
       "0           212         Tennessee       SS  Clear and warm         63.0   \n",
       "1           288             Miami       DE  Clear and warm         63.0   \n",
       "2           270           Georgia       DE  Clear and warm         63.0   \n",
       "3           245             Texas      ILB  Clear and warm         63.0   \n",
       "4           206          Newberry       FS  Clear and warm         63.0   \n",
       "\n",
       "   Humidity  \n",
       "0      77.0  \n",
       "1      77.0  \n",
       "2      77.0  \n",
       "3      77.0  \n",
       "4      77.0  "
      ]
     },
     "execution_count": 3,
     "metadata": {},
     "output_type": "execute_result"
    }
   ],
   "source": [
    "df = pd.read_csv('NFLBigData.csv')\n",
    "df.head()"
   ]
  },
  {
   "cell_type": "code",
   "execution_count": 4,
   "id": "66d3a57d",
   "metadata": {},
   "outputs": [
    {
     "data": {
      "image/png": "[encoded data removed]",
      "text/plain": [
       "<Figure size 432x288 with 1 Axes>"
      ]
     },
     "metadata": {
      "needs_background": "light"
     },
     "output_type": "display_data"
    }
   ],
   "source": [
    "plt.scatter(df['Temperature'], df['Humidity'])\n",
    "plt.title(\"Temperature vs Humidity\")\n",
    "plt.xlabel(\"Temp(F)\")\n",
    "plt.ylabel(\"Humidity\")\n",
    "plt.show()"
   ]
  },
  {
   "cell_type": "code",
   "execution_count": 5,
   "id": "9d6f049e",
   "metadata": {},
   "outputs": [],
   "source": [
    "import ipywidgets as widgets\n",
    "from IPython.display import display"
   ]
  },
  {
   "cell_type": "code",
   "execution_count": 6,
   "id": "b1cd189a",
   "metadata": {},
   "outputs": [
    {
     "data": {
      "application/vnd.jupyter.widget-view+json": {
       "model_id": "1245eaa10df14132a249d3fc5007cd7c",
       "version_major": 2,
       "version_minor": 0
      },
      "text/plain": [
       "Dropdown(description='Variable:', options=('PlayerHeight and PlayerWeight', 'Position', 'Temperature and Humid…"
      ]
     },
     "metadata": {},
     "output_type": "display_data"
    }
   ],
   "source": [
    "def create_plot(variable):\n",
    "    if variable == 'PlayerHeight and PlayerWeight':\n",
    "        plt.scatter(df['PlayerHeight'], df['PlayerWeight'])\n",
    "        plt.xlabel('Height (ft-in)')\n",
    "        plt.ylabel('Weight (lbs)')\n",
    "        plt.title('NFL Player Height vs Weight')\n",
    "        plt.show()\n",
    "    elif variable == 'Position':\n",
    "        position_counts = df['Position'].value_counts()\n",
    "        plt.bar(position_counts.index, position_counts.values)\n",
    "        plt.xlabel('Position')\n",
    "        plt.ylabel('Count')\n",
    "        plt.title('NFL Player Positions')\n",
    "        plt.show()\n",
    "    elif variable == 'Temperature and Humidity':\n",
    "        plt.scatter(df['Temperature'], df['Humidity'])\n",
    "        plt.xlabel('Temperature (deg F)')\n",
    "        plt.ylabel('Humidity')\n",
    "        plt.title('NFL Game Temperature vs Humidity')\n",
    "        plt.show()\n",
    "    elif variable == 'GameWeather':\n",
    "        weather_counts = df['GameWeather'].value_counts()\n",
    "        plt.pie(weather_counts.values, labels=weather_counts.index)\n",
    "        plt.title('NFL Game Weather Conditions')\n",
    "        plt.show()\n",
    "\n",
    "variable_dropdown = widgets.Dropdown(options=['PlayerHeight and PlayerWeight', 'Position', 'Temperature and Humidity', 'GameWeather'], description='Variable:')\n",
    "\n",
    "def on_variable_change(change):\n",
    "    create_plot(change.new)\n",
    "\n",
    "variable_dropdown.observe(on_variable_change, names='value')\n",
    "display(variable_dropdown)"
   ]
  },
  {
   "cell_type": "code",
   "execution_count": null,
   "id": "c588dc62",
   "metadata": {},
   "outputs": [],
   "source": []
  }
 ],
 "metadata": {
  "kernelspec": {
   "display_name": "Python 3 (ipykernel)",
   "language": "python",
   "name": "python3"
  },
  "language_info": {
   "codemirror_mode": {
    "name": "ipython",
    "version": 3
   },
   "file_extension": ".py",
   "mimetype": "text/x-python",
   "name": "python",
   "nbconvert_exporter": "python",
   "pygments_lexer": "ipython3",
   "version": "3.8.3"
  }
 },
 "nbformat": 4,
 "nbformat_minor": 5
}
