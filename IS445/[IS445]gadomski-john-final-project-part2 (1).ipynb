{
 "cells": [
  {
   "cell_type": "markdown",
   "id": "52402978",
   "metadata": {},
   "source": [
    "John Gadomski - Final Project Part 1 "
   ]
  },
  {
   "cell_type": "markdown",
   "id": "4e7e4189",
   "metadata": {},
   "source": [
    "What is the \"name\" of the dataset?\n",
    "\n",
    "The name of the dataset is \"NFL Big Data\", which is a dataset that is used and updated annually for the NFL Big Data Bowl held on Kaggle each year. Every year, The National Football League hosts a competition on Kaggle in which they ask data scientists to answer their biggest questions. Football is a very dynamic sport, the strategies of the sport are constantly changing due to big data and analytics. Data scientists are able to determine which type of plays are most effective in every type of scenario in the game. This dataset uses data collected by Next Gen Stats, which includes player tracking data, so you have the capability of mapping out the football field, and testing tendencies when players run with the ball. \n",
    "\n",
    "Where did you obtain it?\n",
    "\n",
    "The data is public on Kaggle, and published for the 2020 NFL Big Data Bowl. \n",
    "\n",
    "Where can we obtain it? (i.e., URL)\n",
    "\n",
    "https://www.kaggle.com/competitions/nfl-big-data-bowl-2020/data \n",
    "\n",
    "What is the license of the dataset? What are we allowed to do with it?  This information is generally found in an \"About\" page or in documentation.  If there is no explicit license, use what you find in the dataset documentation to make your \"best guess\".\n",
    "\n",
    "In the \"Rules\" section of the kaggle page, the licensing rules are as follows: \n",
    "Competition Use, Non-Commercial, and Academic Use Only\n",
    "In my case I am authorized to use the data for academic use.\n",
    "\n",
    "How big is it in file size and in items?  Looking ahead, how does this relate to GitHub's limits on uploading large files?  If you plan on hosting the data yourself and it is larger than GitHub's limits, state your plan for how you will address this issue.  (Note: your plan might change a little bit from what you propose here and that is ok!)\n",
    "\n",
    "The file size is approximately 250MB, which means I will have to breakdown the data into smaller files when uploading to Github. Will make separate visualizations as I know the tracking data may take up a lot of space."
   ]
  },
  {
   "cell_type": "markdown",
   "id": "ff4a2812",
   "metadata": {},
   "source": [
    "The data includes directional data, weather data, player data, scoring data, and even more. With all this data, I will be able to visualize player movements on the field, and answer questions such as, what is the optimal direction to run when in the shotgun vs under center? Does temperature impact the ability to run or throw the ball more?"
   ]
  },
  {
   "cell_type": "code",
   "execution_count": 2,
   "id": "6ec13f8b",
   "metadata": {},
   "outputs": [],
   "source": [
    "import pandas as pd"
   ]
  },
  {
   "cell_type": "code",
   "execution_count": 6,
   "id": "4744b251",
   "metadata": {},
   "outputs": [
    {
     "name": "stderr",
     "output_type": "stream",
     "text": [
      "/Users/john/miniconda3/lib/python3.8/site-packages/IPython/core/interactiveshell.py:3106: DtypeWarning: Columns (47) have mixed types.Specify dtype option on import or set low_memory=False.\n",
      "  has_raised = await self.run_ast_nodes(code_ast.body, cell_name,\n"
     ]
    },
    {
     "data": {
      "text/html": [
       "<div>\n",
       "<style scoped>\n",
       "    .dataframe tbody tr th:only-of-type {\n",
       "        vertical-align: middle;\n",
       "    }\n",
       "\n",
       "    .dataframe tbody tr th {\n",
       "        vertical-align: top;\n",
       "    }\n",
       "\n",
       "    .dataframe thead th {\n",
       "        text-align: right;\n",
       "    }\n",
       "</style>\n",
       "<table border=\"1\" class=\"dataframe\">\n",
       "  <thead>\n",
       "    <tr style=\"text-align: right;\">\n",
       "      <th></th>\n",
       "      <th>GameId</th>\n",
       "      <th>PlayId</th>\n",
       "      <th>Team</th>\n",
       "      <th>X</th>\n",
       "      <th>Y</th>\n",
       "      <th>S</th>\n",
       "      <th>A</th>\n",
       "      <th>Dis</th>\n",
       "      <th>Orientation</th>\n",
       "      <th>Dir</th>\n",
       "      <th>...</th>\n",
       "      <th>Week</th>\n",
       "      <th>Stadium</th>\n",
       "      <th>Location</th>\n",
       "      <th>StadiumType</th>\n",
       "      <th>Turf</th>\n",
       "      <th>GameWeather</th>\n",
       "      <th>Temperature</th>\n",
       "      <th>Humidity</th>\n",
       "      <th>WindSpeed</th>\n",
       "      <th>WindDirection</th>\n",
       "    </tr>\n",
       "  </thead>\n",
       "  <tbody>\n",
       "    <tr>\n",
       "      <th>0</th>\n",
       "      <td>2017090700</td>\n",
       "      <td>20170907000118</td>\n",
       "      <td>away</td>\n",
       "      <td>73.91</td>\n",
       "      <td>34.84</td>\n",
       "      <td>1.69</td>\n",
       "      <td>1.13</td>\n",
       "      <td>0.40</td>\n",
       "      <td>81.99</td>\n",
       "      <td>177.18</td>\n",
       "      <td>...</td>\n",
       "      <td>1</td>\n",
       "      <td>Gillette Stadium</td>\n",
       "      <td>Foxborough, MA</td>\n",
       "      <td>Outdoor</td>\n",
       "      <td>Field Turf</td>\n",
       "      <td>Clear and warm</td>\n",
       "      <td>63.0</td>\n",
       "      <td>77.0</td>\n",
       "      <td>8.0</td>\n",
       "      <td>SW</td>\n",
       "    </tr>\n",
       "    <tr>\n",
       "      <th>1</th>\n",
       "      <td>2017090700</td>\n",
       "      <td>20170907000118</td>\n",
       "      <td>away</td>\n",
       "      <td>74.67</td>\n",
       "      <td>32.64</td>\n",
       "      <td>0.42</td>\n",
       "      <td>1.35</td>\n",
       "      <td>0.01</td>\n",
       "      <td>27.61</td>\n",
       "      <td>198.70</td>\n",
       "      <td>...</td>\n",
       "      <td>1</td>\n",
       "      <td>Gillette Stadium</td>\n",
       "      <td>Foxborough, MA</td>\n",
       "      <td>Outdoor</td>\n",
       "      <td>Field Turf</td>\n",
       "      <td>Clear and warm</td>\n",
       "      <td>63.0</td>\n",
       "      <td>77.0</td>\n",
       "      <td>8.0</td>\n",
       "      <td>SW</td>\n",
       "    </tr>\n",
       "    <tr>\n",
       "      <th>2</th>\n",
       "      <td>2017090700</td>\n",
       "      <td>20170907000118</td>\n",
       "      <td>away</td>\n",
       "      <td>74.00</td>\n",
       "      <td>33.20</td>\n",
       "      <td>1.22</td>\n",
       "      <td>0.59</td>\n",
       "      <td>0.31</td>\n",
       "      <td>3.01</td>\n",
       "      <td>202.73</td>\n",
       "      <td>...</td>\n",
       "      <td>1</td>\n",
       "      <td>Gillette Stadium</td>\n",
       "      <td>Foxborough, MA</td>\n",
       "      <td>Outdoor</td>\n",
       "      <td>Field Turf</td>\n",
       "      <td>Clear and warm</td>\n",
       "      <td>63.0</td>\n",
       "      <td>77.0</td>\n",
       "      <td>8.0</td>\n",
       "      <td>SW</td>\n",
       "    </tr>\n",
       "    <tr>\n",
       "      <th>3</th>\n",
       "      <td>2017090700</td>\n",
       "      <td>20170907000118</td>\n",
       "      <td>away</td>\n",
       "      <td>71.46</td>\n",
       "      <td>27.70</td>\n",
       "      <td>0.42</td>\n",
       "      <td>0.54</td>\n",
       "      <td>0.02</td>\n",
       "      <td>359.77</td>\n",
       "      <td>105.64</td>\n",
       "      <td>...</td>\n",
       "      <td>1</td>\n",
       "      <td>Gillette Stadium</td>\n",
       "      <td>Foxborough, MA</td>\n",
       "      <td>Outdoor</td>\n",
       "      <td>Field Turf</td>\n",
       "      <td>Clear and warm</td>\n",
       "      <td>63.0</td>\n",
       "      <td>77.0</td>\n",
       "      <td>8.0</td>\n",
       "      <td>SW</td>\n",
       "    </tr>\n",
       "    <tr>\n",
       "      <th>4</th>\n",
       "      <td>2017090700</td>\n",
       "      <td>20170907000118</td>\n",
       "      <td>away</td>\n",
       "      <td>69.32</td>\n",
       "      <td>35.42</td>\n",
       "      <td>1.82</td>\n",
       "      <td>2.43</td>\n",
       "      <td>0.16</td>\n",
       "      <td>12.63</td>\n",
       "      <td>164.31</td>\n",
       "      <td>...</td>\n",
       "      <td>1</td>\n",
       "      <td>Gillette Stadium</td>\n",
       "      <td>Foxborough, MA</td>\n",
       "      <td>Outdoor</td>\n",
       "      <td>Field Turf</td>\n",
       "      <td>Clear and warm</td>\n",
       "      <td>63.0</td>\n",
       "      <td>77.0</td>\n",
       "      <td>8.0</td>\n",
       "      <td>SW</td>\n",
       "    </tr>\n",
       "  </tbody>\n",
       "</table>\n",
       "<p>5 rows × 49 columns</p>\n",
       "</div>"
      ],
      "text/plain": [
       "       GameId          PlayId  Team      X      Y     S     A   Dis  \\\n",
       "0  2017090700  20170907000118  away  73.91  34.84  1.69  1.13  0.40   \n",
       "1  2017090700  20170907000118  away  74.67  32.64  0.42  1.35  0.01   \n",
       "2  2017090700  20170907000118  away  74.00  33.20  1.22  0.59  0.31   \n",
       "3  2017090700  20170907000118  away  71.46  27.70  0.42  0.54  0.02   \n",
       "4  2017090700  20170907000118  away  69.32  35.42  1.82  2.43  0.16   \n",
       "\n",
       "   Orientation     Dir  ...  Week           Stadium        Location  \\\n",
       "0        81.99  177.18  ...     1  Gillette Stadium  Foxborough, MA   \n",
       "1        27.61  198.70  ...     1  Gillette Stadium  Foxborough, MA   \n",
       "2         3.01  202.73  ...     1  Gillette Stadium  Foxborough, MA   \n",
       "3       359.77  105.64  ...     1  Gillette Stadium  Foxborough, MA   \n",
       "4        12.63  164.31  ...     1  Gillette Stadium  Foxborough, MA   \n",
       "\n",
       "   StadiumType        Turf     GameWeather Temperature Humidity  WindSpeed  \\\n",
       "0      Outdoor  Field Turf  Clear and warm        63.0     77.0        8.0   \n",
       "1      Outdoor  Field Turf  Clear and warm        63.0     77.0        8.0   \n",
       "2      Outdoor  Field Turf  Clear and warm        63.0     77.0        8.0   \n",
       "3      Outdoor  Field Turf  Clear and warm        63.0     77.0        8.0   \n",
       "4      Outdoor  Field Turf  Clear and warm        63.0     77.0        8.0   \n",
       "\n",
       "   WindDirection  \n",
       "0             SW  \n",
       "1             SW  \n",
       "2             SW  \n",
       "3             SW  \n",
       "4             SW  \n",
       "\n",
       "[5 rows x 49 columns]"
      ]
     },
     "execution_count": 6,
     "metadata": {},
     "output_type": "execute_result"
    }
   ],
   "source": [
    "#Dataset\n",
    "df = pd.read_csv('NFLBigData.csv')\n",
    "df.head()"
   ]
  },
  {
   "cell_type": "code",
   "execution_count": 7,
   "id": "5bc446a2",
   "metadata": {},
   "outputs": [],
   "source": [
    "import matplotlib.pyplot as plt"
   ]
  },
  {
   "cell_type": "markdown",
   "id": "d9164e1e",
   "metadata": {},
   "source": [
    "Make a simple plot showing a relationship of interest. You can use matplotlib or pandas (or other). Don't worry about colors, labels or anything else of that nature!  Include a few sentences about what your plot is aiming to show and why it is interesting."
   ]
  },
  {
   "cell_type": "code",
   "execution_count": 8,
   "id": "04a01cf7",
   "metadata": {},
   "outputs": [
    {
     "data": {
      "image/png": "[encoded data removed]",
      "text/plain": [
       "<Figure size 432x288 with 1 Axes>"
      ]
     },
     "metadata": {
      "needs_background": "light"
     },
     "output_type": "display_data"
    }
   ],
   "source": [
    "plt.scatter(df['Temperature'], df['Humidity'])\n",
    "plt.title(\"Temperature vs Humidity\")\n",
    "plt.xlabel(\"Temp(F)\")\n",
    "plt.ylabel(\"Humidity\")\n",
    "plt.show()"
   ]
  },
  {
   "cell_type": "markdown",
   "id": "1a63b60f",
   "metadata": {},
   "source": [
    "Decided to quickly visualize some temperature and humidity data, as I may expand on both of these variables and try to answer questions such as, \"Does temperature or humidity impact ball movement more?\". There is little correlation between temperature and humidity, specifically where these NFL teams play."
   ]
  },
  {
   "cell_type": "markdown",
   "id": "c16d3231",
   "metadata": {},
   "source": [
    "FINAL PROJECT PART 2"
   ]
  },
  {
   "cell_type": "code",
   "execution_count": 10,
   "id": "2d0aacc0",
   "metadata": {},
   "outputs": [],
   "source": [
    "import ipywidgets as widgets\n",
    "from IPython.display import display"
   ]
  },
  {
   "cell_type": "code",
   "execution_count": 11,
   "id": "abffad25",
   "metadata": {},
   "outputs": [
    {
     "data": {
      "application/vnd.jupyter.widget-view+json": {
       "model_id": "04d46185245743c7a53c5e9362331f51",
       "version_major": 2,
       "version_minor": 0
      },
      "text/plain": [
       "Dropdown(description='Variable:', options=('PlayerHeight and PlayerWeight', 'Position', 'Temperature and Humid…"
      ]
     },
     "metadata": {},
     "output_type": "display_data"
    },
    {
     "data": {
      "image/png": "[encoded data removed]",
      "text/plain": [
       "<Figure size 432x288 with 1 Axes>"
      ]
     },
     "metadata": {
      "needs_background": "light"
     },
     "output_type": "display_data"
    }
   ],
   "source": [
    "def create_plot(variable):\n",
    "    if variable == 'PlayerHeight and PlayerWeight':\n",
    "        plt.scatter(df['PlayerHeight'], df['PlayerWeight'])\n",
    "        plt.xlabel('Height (ft-in)')\n",
    "        plt.ylabel('Weight (lbs)')\n",
    "        plt.title('NFL Player Height vs Weight')\n",
    "        plt.show()\n",
    "    elif variable == 'Position':\n",
    "        position_counts = df['Position'].value_counts()\n",
    "        plt.bar(position_counts.index, position_counts.values)\n",
    "        plt.xlabel('Position')\n",
    "        plt.ylabel('Count')\n",
    "        plt.title('NFL Player Positions')\n",
    "        plt.show()\n",
    "    elif variable == 'Temperature and Humidity':\n",
    "        plt.scatter(df['Temperature'], df['Humidity'])\n",
    "        plt.xlabel('Temperature (deg F)')\n",
    "        plt.ylabel('Humidity')\n",
    "        plt.title('NFL Game Temperature vs Humidity')\n",
    "        plt.show()\n",
    "    elif variable == 'GameWeather':\n",
    "        weather_counts = df['GameWeather'].value_counts()\n",
    "        plt.pie(weather_counts.values, labels=weather_counts.index)\n",
    "        plt.title('NFL Game Weather Conditions')\n",
    "        plt.show()\n",
    "\n",
    "variable_dropdown = widgets.Dropdown(options=['PlayerHeight and PlayerWeight', 'Position', 'Temperature and Humidity', 'GameWeather'], description='Variable:')\n",
    "\n",
    "def on_variable_change(change):\n",
    "    create_plot(change.new)\n",
    "\n",
    "variable_dropdown.observe(on_variable_change, names='value')\n",
    "display(variable_dropdown)"
   ]
  },
  {
   "cell_type": "code",
   "execution_count": 13,
   "id": "915edcb7",
   "metadata": {},
   "outputs": [
    {
     "data": {
      "application/vnd.jupyter.widget-view+json": {
       "model_id": "adb8e28e8a124b1284ecb33558bfcad2",
       "version_major": 2,
       "version_minor": 0
      },
      "text/plain": [
       "Dropdown(description='Player:', options=('Eric Berry', 'Allen Bailey', 'Justin Houston', 'Derrick Johnson', 'R…"
      ]
     },
     "metadata": {},
     "output_type": "display_data"
    },
    {
     "name": "stdout",
     "output_type": "stream",
     "text": [
      "Phillip Gaines's height is 6-0 and weight is 193 lbs\n",
      "Daniel Sorensen's height is 6-2 and weight is 208 lbs\n"
     ]
    }
   ],
   "source": [
    "player_dropdown = widgets.Dropdown(options=df['DisplayName'].unique(), description='Player:')\n",
    "\n",
    "def display_player_info(player):\n",
    "    height, weight = df[df['DisplayName'] == player][['PlayerHeight', 'PlayerWeight']].iloc[0]\n",
    "    print(f'{player}\\'s height is {height} and weight is {weight} lbs')\n",
    "\n",
    "def on_player_change(change):\n",
    "    display_player_info(change.new)\n",
    "player_dropdown.observe(on_player_change, names='value')\n",
    "display(player_dropdown)\n",
    "\n",
    "#This gave me a error free result but requires you to browse the names by hand instead of typing it in"
   ]
  },
  {
   "cell_type": "markdown",
   "id": "8b8a8b1f",
   "metadata": {},
   "source": [
    "The dashboard allows you to explore NFL player statistics, game conditions, player position count, and temperature/humidity statistics. The first interactive dashboard displays a pie chart of game weather conditions. The bottom section allows users to search for a player's height and weight using either a dropdown list of player names or by typing in a name directly. Users can gain insights into the physical characteristics of NFL players, as well as the weather conditions that games are played in. This dashboard would be useful for anyone interested in studying NFL players or for fans who want to gain a deeper understanding of the game.\n",
    "The data was already cleaned and ready to use, so didn't have to do any precprocessing of the data before I visualized. I created two different widgets using the ipywidgets library. The first widget was a pie chart that showed the frequency of game weather conditions. This widget was connected to a dropdown menu that allowed the user to select a minimum frequency for display.The second widget was a dropdown menu that allowed users to select a player's name to search for their height and weight. I connected this widget to a function that would search the dataframe for the player's name and then display their height and weight in a textbox. I then created a layout using the ipywidgets library that arranged the two widgets and the textbox in a user-friendly manner. I ran into some issues with displaying player information using the input text box, so will have to tinker with both visualizations."
   ]
  },
  {
   "cell_type": "markdown",
   "id": "97799cdd",
   "metadata": {},
   "source": [
    "An additional dataset I may use comes from https://www.kaggle.com/datasets/kendallgillies/nflstatistics, which is a huge dataset which contains player specific information. The data includes hometown, height, weight, college, high school, and some other variables that can give me better insight into active versus retired players. This will also allow me to analyze college performance and positional performance based on college (As some colleges are touted as more dominant in certain positions)."
   ]
  },
  {
   "cell_type": "code",
   "execution_count": null,
   "id": "457bd251",
   "metadata": {},
   "outputs": [],
   "source": []
  }
 ],
 "metadata": {
  "kernelspec": {
   "display_name": "Python 3 (ipykernel)",
   "language": "python",
   "name": "python3"
  },
  "language_info": {
   "codemirror_mode": {
    "name": "ipython",
    "version": 3
   },
   "file_extension": ".py",
   "mimetype": "text/x-python",
   "name": "python",
   "nbconvert_exporter": "python",
   "pygments_lexer": "ipython3",
   "version": "3.8.3"
  }
 },
 "nbformat": 4,
 "nbformat_minor": 5
}
